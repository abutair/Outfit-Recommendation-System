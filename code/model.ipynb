{
  "cells": [
    {
      "cell_type": "markdown",
      "metadata": {
        "id": "lUc_n91-hYMf"
      },
      "source": [
        "# Load data"
      ]
    },
    {
      "cell_type": "code",
      "execution_count": 38,
      "metadata": {
        "id": "BrGkJUWohYMp"
      },
      "outputs": [],
      "source": [
        "import numpy as np\n",
        "import pandas as pd\n",
        "import tensorflow as tf\n",
        "import os"
      ]
    },
    {
      "cell_type": "code",
      "execution_count": 39,
      "metadata": {
        "id": "2XtdqJKahYMu"
      },
      "outputs": [],
      "source": [
        "train = pd.read_parquet(\"https://raw.githubusercontent.com/ASOS/dsf2020/main/dsf_asos_train_with_alphanumeric_dummy_ids.parquet\")\n",
        "valid = pd.read_parquet(\"https://raw.githubusercontent.com/ASOS/dsf2020/main/dsf_asos_valid_with_alphanumeric_dummy_ids.parquet\")\n",
        "dummy_users = pd.read_csv(\"https://raw.githubusercontent.com/ASOS/dsf2020/main/dsf_asos_dummy_users_with_alphanumeric_dummy_ids.csv\", header=None).values.flatten().astype(str)\n",
        "products = pd.read_csv(\"https://raw.githubusercontent.com/ASOS/dsf2020/main/dsf_asos_productIds.csv\", header=None).values.flatten().astype(int)"
      ]
    },
    {
      "cell_type": "code",
      "execution_count": 40,
      "metadata": {
        "id": "zcFNp10PhYMv",
        "outputId": "2e9d2c83-6f48-477a-ee20-68539cb49fb9",
        "colab": {
          "base_uri": "https://localhost:8080/"
        }
      },
      "outputs": [
        {
          "output_type": "execute_result",
          "data": {
            "text/plain": [
              "array([ 8650774,  9306139,  9961521, ..., 12058614, 12058615, 11927550])"
            ]
          },
          "metadata": {},
          "execution_count": 40
        }
      ],
      "source": [
        "products"
      ]
    },
    {
      "cell_type": "markdown",
      "metadata": {
        "id": "jNLhnJQchYMy"
      },
      "source": [
        "# Define a Recommender model"
      ]
    },
    {
      "cell_type": "markdown",
      "metadata": {
        "id": "fMfjylsKhYMz"
      },
      "source": [
        "Embeding layers gives list of random numbers for each user and each product"
      ]
    },
    {
      "cell_type": "code",
      "execution_count": 41,
      "metadata": {
        "id": "QDijKAIthYMz"
      },
      "outputs": [],
      "source": [
        "embed1 = tf.keras.layers.Embedding(5,8)"
      ]
    },
    {
      "cell_type": "code",
      "execution_count": 42,
      "metadata": {
        "id": "ML6IV-kYhYM1"
      },
      "outputs": [],
      "source": [
        "dummy_users_embedding = tf.keras.layers.Embedding(len(dummy_users),6)\n",
        "products_embedding =  tf.keras.layers.Embedding(len(products),6)"
      ]
    },
    {
      "cell_type": "code",
      "execution_count": 43,
      "metadata": {
        "id": "iJWeTlKhhYM1",
        "outputId": "3d4e6473-71ae-4fee-b86c-3e37cc4818b5",
        "colab": {
          "base_uri": "https://localhost:8080/"
        }
      },
      "outputs": [
        {
          "output_type": "execute_result",
          "data": {
            "text/plain": [
              "<tf.Tensor: shape=(6,), dtype=float32, numpy=\n",
              "array([-0.02593962,  0.01064478, -0.01795601, -0.01741855, -0.030055  ,\n",
              "        0.02075242], dtype=float32)>"
            ]
          },
          "metadata": {},
          "execution_count": 43
        }
      ],
      "source": [
        "dummy_users_embedding(1)"
      ]
    },
    {
      "cell_type": "code",
      "execution_count": 44,
      "metadata": {
        "id": "aUkeZ5eahYM2"
      },
      "outputs": [],
      "source": [
        "class SimpleRecommender(tf.keras.Model):\n",
        "    def __init__(self, dummy_users, products,length_of_embedding):\n",
        "        super(SimpleRecommender, self).__init__()\n",
        "        self.products = tf.constant(products, dtype=tf.int32)\n",
        "        self.dummy_users = tf.constant(dummy_users, dtype=tf.string)\n",
        "        self.dummy_user_table = tf.lookup.StaticHashTable(tf.lookup.KeyValueTensorInitializer(self.dummy_users, range(len(dummy_users))), -1)\n",
        "        self.product_table = tf.lookup.StaticHashTable(tf.lookup.KeyValueTensorInitializer(self.products, range(len(products))), -1)\n",
        "        \n",
        "        self.user_embedding = tf.keras.layers.Embedding(len(dummy_users), length_of_embedding)\n",
        "        self.product_embedding = tf.keras.layers.Embedding(len(products), length_of_embedding)\n",
        "        self.dot = tf.keras.layers.Dot(axes=-1)\n",
        "        \n",
        "    def call(self, inputs):\n",
        "        user = inputs[0]\n",
        "        products = inputs[1]\n",
        "\n",
        "        user_embedding_index = self.dummy_user_table.lookup(user)\n",
        "        product_embedding_index =self.product_table.lookup(products)\n",
        "\n",
        "        user_embedding_values = self.user_embedding(user_embedding_index)\n",
        "\n",
        "        product_embedding_value = self.product_embedding(product_embedding_index)\n",
        "        return tf.squeeze(self.dot([user_embedding_values,product_embedding_value]),1)\n",
        "    \n",
        "    @tf.function\n",
        "    def call_item_item(self, product):\n",
        "        product_x = self.product_table.lookup(product)\n",
        "        pe = tf.expand_dims(self.product_embedding(product_x), 0)\n",
        "        \n",
        "        all_pe = tf.expand_dims(self.product_embedding.embeddings, 0)#note this only works if the layer has been built!\n",
        "        scores = tf.reshape(self.dot([pe, all_pe]), [-1])\n",
        "        \n",
        "        top_scores, top_indices = tf.math.top_k(scores, k=100)\n",
        "        top_ids = tf.gather(self.products, top_indices)\n",
        "        return top_ids, top_scores"
      ]
    },
    {
      "cell_type": "markdown",
      "metadata": {
        "id": "sKF3ikQIhYM4"
      },
      "source": [
        "# Creating a dataset"
      ]
    },
    {
      "cell_type": "code",
      "execution_count": 45,
      "metadata": {
        "id": "Yb32liWBhYM4",
        "outputId": "420e7ece-2dd9-43af-b7b4-a2c59f491b6a",
        "colab": {
          "base_uri": "https://localhost:8080/"
        }
      },
      "outputs": [
        {
          "output_type": "stream",
          "name": "stdout",
          "text": [
            "tf.Tensor([b'PIXcm7Ru5KmntCy0yA1K'], shape=(1,), dtype=string)\n",
            "tf.Tensor([10524048], shape=(1,), dtype=int32)\n"
          ]
        }
      ],
      "source": [
        "dummy_user_tensor = tf.constant(train[[\"dummyUserId\"]].values, dtype=tf.string)\n",
        "product_tensor = tf.constant(train[[\"productId\"]].values, dtype=tf.int32)\n",
        "\n",
        "dataset = tf.data.Dataset.from_tensor_slices((dummy_user_tensor, product_tensor))\n",
        "for x, y in dataset:\n",
        "    print(x)\n",
        "    print(y)\n",
        "    break"
      ]
    },
    {
      "cell_type": "code",
      "execution_count": 46,
      "metadata": {
        "id": "jK8wvzYBhYM5"
      },
      "outputs": [],
      "source": [
        "class Mapper():\n",
        "    \n",
        "    def __init__(self, possible_products, num_negative_products):\n",
        "        self.num_possible_products = len(possible_products)\n",
        "        self.possible_products_tensor = tf.constant(possible_products, dtype=tf.int32)\n",
        "        \n",
        "        self.num_negative_products = num_negative_products\n",
        "        self.y  = tf.one_hot(0,num_negative_products+1)\n",
        "    \n",
        "    def __call__(self, user, product):\n",
        "        random_negatives_indexs = tf.random.uniform((self.num_negative_products,),minval =0,maxval=self.num_possible_products,dtype=tf.int32)\n",
        "        negatives = tf.gather(self.possible_products_tensor, random_negatives_indexs)\n",
        "        candidates =tf.concat([product,negatives],axis=0)\n",
        "        return (user, candidates),self.y"
      ]
    },
    {
      "cell_type": "code",
      "execution_count": 47,
      "metadata": {
        "id": "UpOAJKR_hYM6",
        "outputId": "a7217d94-9cd0-4ba3-c0c5-e073c5a20a52",
        "colab": {
          "base_uri": "https://localhost:8080/"
        }
      },
      "outputs": [
        {
          "output_type": "stream",
          "name": "stdout",
          "text": [
            "tf.Tensor([b'PIXcm7Ru5KmntCy0yA1K'], shape=(1,), dtype=string)\n",
            "tf.Tensor(\n",
            "[10524048 11961825 10054279 11724200 12314896 10550278 11499192 10001471\n",
            " 10664593 10282645 10421689], shape=(11,), dtype=int32)\n",
            "tf.Tensor([1. 0. 0. 0. 0. 0. 0. 0. 0. 0. 0.], shape=(11,), dtype=float32)\n"
          ]
        }
      ],
      "source": [
        "dataset = tf.data.Dataset.from_tensor_slices((dummy_user_tensor, product_tensor)).map(Mapper(products,10))\n",
        "\n",
        "for (u,c),y in dataset:\n",
        "    print(u)\n",
        "    print(c)\n",
        "    print(y)\n",
        "    break"
      ]
    },
    {
      "cell_type": "code",
      "execution_count": 48,
      "metadata": {
        "id": "5RCj1_FXhYM8"
      },
      "outputs": [],
      "source": [
        "def get_dataset(df,products, num_negative_products):\n",
        "    dummy_user_tensor = tf.constant(df[['dummyUserId']].values,dtype=tf.string)\n",
        "    product_tensor = tf.constant(df[['productId']].values,dtype=tf.int32)\n",
        "\n",
        "    dataset = tf.data.Dataset.from_tensor_slices((dummy_user_tensor,product_tensor))\n",
        "    dataset = dataset.map(Mapper(products,num_negative_products))\n",
        "    dataset = dataset.batch(1024)\n",
        "    return dataset"
      ]
    },
    {
      "cell_type": "code",
      "execution_count": 49,
      "metadata": {
        "id": "EZsRUYL7hYM8",
        "outputId": "5fe4d775-3c17-4fe3-8c88-6507c0e48d69",
        "colab": {
          "base_uri": "https://localhost:8080/"
        }
      },
      "outputs": [
        {
          "output_type": "stream",
          "name": "stdout",
          "text": [
            "tf.Tensor(\n",
            "[[b'PIXcm7Ru5KmntCy0yA1K']\n",
            " [b'd0RILFB1hUzNSINMY4Ow']\n",
            " [b'Ebax7lyhnKRm4xeRlWW2']\n",
            " ...\n",
            " [b'xuX9n8PHfSR0AP3UZ8ar']\n",
            " [b'iNnxsPFfOa9884fMjVPJ']\n",
            " [b'aD8Mn12im8lFPzXAY41P']], shape=(1024, 1), dtype=string)\n",
            "tf.Tensor(\n",
            "[[10524048 12364545 12914871 12941694 11661284]\n",
            " [ 9137713 11298557  9053404 12072761 11974784]\n",
            " [ 5808602 12746059  8963887 13367577 10919704]\n",
            " ...\n",
            " [11541336 12731504 12267762 11586986 12667678]\n",
            " [ 7779232 12051681 10879976 12191357 11604158]\n",
            " [ 4941259 10412718  9987846 11140016  8880603]], shape=(1024, 5), dtype=int32)\n",
            "tf.Tensor(\n",
            "[[1. 0. 0. 0. 0.]\n",
            " [1. 0. 0. 0. 0.]\n",
            " [1. 0. 0. 0. 0.]\n",
            " ...\n",
            " [1. 0. 0. 0. 0.]\n",
            " [1. 0. 0. 0. 0.]\n",
            " [1. 0. 0. 0. 0.]], shape=(1024, 5), dtype=float32)\n"
          ]
        }
      ],
      "source": [
        "for (u,c),y in get_dataset(train,products,4):\n",
        "    print(u)\n",
        "    print(c)\n",
        "    print(y)\n",
        "    break "
      ]
    },
    {
      "cell_type": "markdown",
      "metadata": {
        "id": "0807QU9ZhYM9"
      },
      "source": [
        "# Train a model"
      ]
    },
    {
      "cell_type": "code",
      "execution_count": 50,
      "metadata": {
        "id": "yu6PpTZyhYM9",
        "outputId": "5eacd3c4-072c-4ed6-ced0-bf43619361ac",
        "colab": {
          "base_uri": "https://localhost:8080/"
        }
      },
      "outputs": [
        {
          "output_type": "stream",
          "name": "stdout",
          "text": [
            "Epoch 1/5\n",
            "162/162 [==============================] - 12s 71ms/step - loss: 4.6151 - categorical_accuracy: 0.0134 - val_loss: 4.6151 - val_categorical_accuracy: 0.0172\n",
            "Epoch 2/5\n",
            "162/162 [==============================] - 15s 94ms/step - loss: 4.6120 - categorical_accuracy: 0.0821 - val_loss: 4.6148 - val_categorical_accuracy: 0.0465\n",
            "Epoch 3/5\n",
            "162/162 [==============================] - 13s 77ms/step - loss: 4.5992 - categorical_accuracy: 0.1908 - val_loss: 4.6069 - val_categorical_accuracy: 0.0711\n",
            "Epoch 4/5\n",
            "162/162 [==============================] - 9s 57ms/step - loss: 4.5288 - categorical_accuracy: 0.2425 - val_loss: 4.5654 - val_categorical_accuracy: 0.0927\n",
            "Epoch 5/5\n",
            "162/162 [==============================] - 9s 57ms/step - loss: 4.3206 - categorical_accuracy: 0.2479 - val_loss: 4.4341 - val_categorical_accuracy: 0.1080\n"
          ]
        },
        {
          "output_type": "execute_result",
          "data": {
            "text/plain": [
              "<keras.callbacks.History at 0x7fbe2a474760>"
            ]
          },
          "metadata": {},
          "execution_count": 50
        }
      ],
      "source": [
        "model = SimpleRecommender(dummy_users, products,15)\n",
        "model.compile(loss=tf.keras.losses.CategoricalCrossentropy(from_logits=True)\n",
        ",optimizer=tf.keras.optimizers.SGD(learning_rate=100.),\n",
        "metrics=[tf.keras.metrics.CategoricalAccuracy()])\n",
        "\n",
        "\n",
        "model.fit(get_dataset(train, products,100),validation_data=get_dataset(valid, products,100),epochs=5)\n"
      ]
    },
    {
      "cell_type": "code",
      "execution_count": 51,
      "metadata": {
        "id": "W4J2e_hBhYM-"
      },
      "outputs": [],
      "source": [
        "test_product =11698965\n"
      ]
    },
    {
      "cell_type": "code",
      "execution_count": 52,
      "metadata": {
        "id": "JdUTa6vQhYM-",
        "outputId": "7816e8c3-6f57-41dc-de01-51ee0c4ceb14",
        "colab": {
          "base_uri": "https://localhost:8080/"
        }
      },
      "outputs": [
        {
          "output_type": "stream",
          "name": "stdout",
          "text": [
            "Recs for item 11698965: (<tf.Tensor: shape=(100,), dtype=int32, numpy=\n",
            "array([10581393,  9109088, 10789497, 11375321, 12115410, 11409896,\n",
            "       10273738, 10958640, 11888641,  8064059, 12601161, 10752331,\n",
            "       11192864, 10960540, 11427852, 12261521, 10360535, 11639416,\n",
            "       11201838, 11552277, 10614692, 11981872, 11839697,  9921096,\n",
            "       11794569, 10274218, 10555920, 10476580, 10614497, 11537264,\n",
            "       11179817, 12267286, 11689898,  9874655,  9629382, 10405861,\n",
            "       10402696, 11937479, 10516086, 10373590, 10437686, 10143323,\n",
            "       11522585, 11369456, 10333386, 12220153,  9172947, 12459671,\n",
            "        9791231, 10490474, 10462170, 10256214, 10619532,  8972429,\n",
            "       10939556, 10831008, 12316839, 12149913,  9340786, 12192724,\n",
            "        6444747, 11086204,  8757856, 10274205, 11479035, 11502168,\n",
            "       12172756,  9990741, 10442999, 10820548, 10571854, 12469599,\n",
            "       10382644, 11439043, 12198948,  8291428, 12006313, 10177877,\n",
            "       12842496, 10971643, 12175115, 12700616, 11084966,  9053809,\n",
            "       11916199, 10933013, 11489132, 10747294, 11890074, 11087202,\n",
            "        9762716, 11976884, 10274451, 11822506, 11145218,  9835456,\n",
            "       12348538, 10238436, 11927414, 11372085], dtype=int32)>, <tf.Tensor: shape=(100,), dtype=float32, numpy=\n",
            "array([0.20740384, 0.20616852, 0.19541472, 0.1371406 , 0.13456702,\n",
            "       0.1201174 , 0.11417135, 0.11010959, 0.10667162, 0.10294852,\n",
            "       0.09764384, 0.0933237 , 0.08947257, 0.08750324, 0.08422678,\n",
            "       0.08311588, 0.08193129, 0.08189616, 0.08124255, 0.07965261,\n",
            "       0.07945172, 0.07911783, 0.07856736, 0.07855663, 0.07828388,\n",
            "       0.07797376, 0.07698434, 0.07693288, 0.07615223, 0.07562812,\n",
            "       0.07532877, 0.07521579, 0.07512902, 0.07485532, 0.07456753,\n",
            "       0.07412171, 0.07368708, 0.07340648, 0.07326628, 0.07252568,\n",
            "       0.07244436, 0.07219084, 0.07183582, 0.07124349, 0.0711021 ,\n",
            "       0.07077184, 0.07072397, 0.07005311, 0.06983247, 0.06980272,\n",
            "       0.06977388, 0.06954354, 0.06936096, 0.06887452, 0.06871352,\n",
            "       0.06863248, 0.06846539, 0.06822722, 0.06810367, 0.068097  ,\n",
            "       0.06809425, 0.06803972, 0.06747477, 0.0673032 , 0.06725665,\n",
            "       0.0669649 , 0.06668722, 0.06664426, 0.06656873, 0.06656528,\n",
            "       0.06645127, 0.06641141, 0.06630342, 0.06623596, 0.06618714,\n",
            "       0.06610449, 0.06591344, 0.06578402, 0.0654747 , 0.06542578,\n",
            "       0.06523994, 0.06521384, 0.06517804, 0.06515221, 0.06497532,\n",
            "       0.06495533, 0.06492147, 0.06490681, 0.06474183, 0.06460888,\n",
            "       0.0644146 , 0.06437557, 0.06437215, 0.06420325, 0.06414853,\n",
            "       0.06398293, 0.06375514, 0.06341711, 0.06328195, 0.06296679],\n",
            "      dtype=float32)>)\n"
          ]
        }
      ],
      "source": [
        "print(\"Recs for item {}: {}\".format(test_product, model.call_item_item(tf.constant(test_product, dtype=tf.int32))))\n"
      ]
    },
    {
      "cell_type": "markdown",
      "metadata": {
        "id": "9ryfyBruhYM_"
      },
      "source": [
        "# Save the model"
      ]
    },
    {
      "cell_type": "code",
      "execution_count": 53,
      "metadata": {
        "id": "tLPyKDWqhYM_"
      },
      "outputs": [],
      "source": [
        "model_path = \"models/recommender/1\"\n",
        "inpute_signature = tf.TensorSpec(shape=(), dtype=tf.int32)\n",
        "signatures = { 'call_item_item': model.call_item_item.get_concrete_function(inpute_signature)}\n",
        "tf.saved_model.save(model, model_path,signatures = signatures)"
      ]
    },
    {
      "cell_type": "code",
      "execution_count": 55,
      "metadata": {
        "id": "B61L3arohYM_",
        "outputId": "d628e143-6bdd-4510-b184-ba959fd823be",
        "colab": {
          "base_uri": "https://localhost:8080/"
        }
      },
      "outputs": [
        {
          "output_type": "execute_result",
          "data": {
            "text/plain": [
              "['call_item_item']"
            ]
          },
          "metadata": {},
          "execution_count": 55
        }
      ],
      "source": [
        "PATH ='models/recommender/1'\n",
        "imported_model = tf.saved_model.load(PATH)\n",
        "list(imported_model.signatures.keys())\n"
      ]
    },
    {
      "cell_type": "code",
      "execution_count": 56,
      "metadata": {
        "id": "letTt6MZhYNA",
        "outputId": "f5f73d9f-eedb-4361-ebeb-0c8f2ce324d9",
        "colab": {
          "base_uri": "https://localhost:8080/",
          "height": 363
        }
      },
      "outputs": [
        {
          "output_type": "execute_result",
          "data": {
            "text/plain": [
              "<IPython.core.display.HTML object>"
            ],
            "text/html": [
              "<table border=\"1\" class=\"dataframe\">\n",
              "  <thead>\n",
              "    <tr style=\"text-align: right;\">\n",
              "      <th></th>\n",
              "      <th>ProductUrl</th>\n",
              "    </tr>\n",
              "  </thead>\n",
              "  <tbody>\n",
              "    <tr>\n",
              "      <th>0</th>\n",
              "      <td>10581393</td>\n",
              "    </tr>\n",
              "    <tr>\n",
              "      <th>1</th>\n",
              "      <td>9109088</td>\n",
              "    </tr>\n",
              "    <tr>\n",
              "      <th>2</th>\n",
              "      <td>10789497</td>\n",
              "    </tr>\n",
              "    <tr>\n",
              "      <th>3</th>\n",
              "      <td>11375321</td>\n",
              "    </tr>\n",
              "    <tr>\n",
              "      <th>4</th>\n",
              "      <td>12115410</td>\n",
              "    </tr>\n",
              "    <tr>\n",
              "      <th>5</th>\n",
              "      <td>11409896</td>\n",
              "    </tr>\n",
              "    <tr>\n",
              "      <th>6</th>\n",
              "      <td>10273738</td>\n",
              "    </tr>\n",
              "    <tr>\n",
              "      <th>7</th>\n",
              "      <td>10958640</td>\n",
              "    </tr>\n",
              "    <tr>\n",
              "      <th>8</th>\n",
              "      <td>11888641</td>\n",
              "    </tr>\n",
              "    <tr>\n",
              "      <th>9</th>\n",
              "      <td>8064059</td>\n",
              "    </tr>\n",
              "  </tbody>\n",
              "</table>"
            ]
          },
          "metadata": {},
          "execution_count": 56
        }
      ],
      "source": [
        "result_tensor = imported_model.signatures['call_item_item'](tf.constant([11698965]))\n",
        "\n",
        "from IPython.core.display import HTML\n",
        "\n",
        "def path_to_image_html(path):\n",
        "    return '<img src=\"' + path + '\" width=\"60\" >'\n",
        "\n",
        "result_df = pd.DataFrame(result_tensor['output_0'].numpy(),columns=['ProductUrl']).head(10)\n",
        "\n",
        "HTML(result_df.to_html(escape=False ,formatters=dict(column_name_with_image_links=path_to_image_html)))\n"
      ]
    }
  ],
  "metadata": {
    "kernelspec": {
      "display_name": "Python 3",
      "language": "python",
      "name": "python3"
    },
    "language_info": {
      "codemirror_mode": {
        "name": "ipython",
        "version": 3
      },
      "file_extension": ".py",
      "mimetype": "text/x-python",
      "name": "python",
      "nbconvert_exporter": "python",
      "pygments_lexer": "ipython3",
      "version": "3.10.6"
    },
    "orig_nbformat": 4,
    "vscode": {
      "interpreter": {
        "hash": "369f2c481f4da34e4445cda3fffd2e751bd1c4d706f27375911949ba6bb62e1c"
      }
    },
    "colab": {
      "provenance": []
    }
  },
  "nbformat": 4,
  "nbformat_minor": 0
}