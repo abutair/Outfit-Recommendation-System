{
 "cells": [
  {
   "attachments": {},
   "cell_type": "markdown",
   "metadata": {},
   "source": [
    "# Load data"
   ]
  },
  {
   "cell_type": "code",
   "execution_count": 33,
   "metadata": {},
   "outputs": [],
   "source": [
    "import numpy as np\n",
    "import pandas as pd\n",
    "import tensorflow as tf\n",
    "import os"
   ]
  },
  {
   "cell_type": "code",
   "execution_count": 34,
   "metadata": {},
   "outputs": [],
   "source": [
    "train = pd.read_parquet(\"https://raw.githubusercontent.com/ASOS/dsf2020/main/dsf_asos_train_with_alphanumeric_dummy_ids.parquet\")\n",
    "valid = pd.read_parquet(\"https://raw.githubusercontent.com/ASOS/dsf2020/main/dsf_asos_valid_with_alphanumeric_dummy_ids.parquet\")\n",
    "dummy_users = pd.read_csv(\"https://raw.githubusercontent.com/ASOS/dsf2020/main/dsf_asos_dummy_users_with_alphanumeric_dummy_ids.csv\", header=None).values.flatten().astype(str)\n",
    "products = pd.read_csv(\"https://raw.githubusercontent.com/ASOS/dsf2020/main/dsf_asos_productIds.csv\", header=None).values.flatten().astype(int)"
   ]
  },
  {
   "cell_type": "code",
   "execution_count": 35,
   "metadata": {},
   "outputs": [
    {
     "data": {
      "text/plain": [
       "array([ 8650774,  9306139,  9961521, ..., 12058614, 12058615, 11927550])"
      ]
     },
     "execution_count": 35,
     "metadata": {},
     "output_type": "execute_result"
    }
   ],
   "source": [
    "products"
   ]
  },
  {
   "attachments": {},
   "cell_type": "markdown",
   "metadata": {},
   "source": [
    "# Define a Recommender model"
   ]
  },
  {
   "attachments": {},
   "cell_type": "markdown",
   "metadata": {},
   "source": [
    "Embeding layers gives list of random numbers for each user and each product"
   ]
  },
  {
   "cell_type": "code",
   "execution_count": 36,
   "metadata": {},
   "outputs": [],
   "source": [
    "embed1 = tf.keras.layers.Embedding(5,8)"
   ]
  },
  {
   "cell_type": "code",
   "execution_count": 37,
   "metadata": {},
   "outputs": [],
   "source": [
    "dummy_users_embedding = tf.keras.layers.Embedding(len(dummy_users),6)\n",
    "products_embedding =  tf.keras.layers.Embedding(len(products),6)"
   ]
  },
  {
   "cell_type": "code",
   "execution_count": 38,
   "metadata": {},
   "outputs": [
    {
     "data": {
      "text/plain": [
       "<tf.Tensor: shape=(6,), dtype=float32, numpy=\n",
       "array([ 0.04615753, -0.03312473, -0.02007063, -0.04280996, -0.04440054,\n",
       "       -0.03684244], dtype=float32)>"
      ]
     },
     "execution_count": 38,
     "metadata": {},
     "output_type": "execute_result"
    }
   ],
   "source": [
    "dummy_users_embedding(1)"
   ]
  },
  {
   "cell_type": "code",
   "execution_count": 39,
   "metadata": {},
   "outputs": [],
   "source": [
    "class SimpleRecommender(tf.keras.Model):\n",
    "    def __init__(self, dummy_users, products,length_of_embedding):\n",
    "        super(SimpleRecommender, self).__init__()\n",
    "        self.products = tf.constant(products, dtype=tf.int32)\n",
    "        self.dummy_users = tf.constant(dummy_users, dtype=tf.string)\n",
    "        self.dummy_user_table = tf.lookup.StaticHashTable(tf.lookup.KeyValueTensorInitializer(self.dummy_users, range(len(dummy_users))), -1)\n",
    "        self.product_table = tf.lookup.StaticHashTable(tf.lookup.KeyValueTensorInitializer(self.products, range(len(products))), -1)\n",
    "        \n",
    "        self.user_embedding = tf.keras.layers.Embedding(len(dummy_users), length_of_embedding)\n",
    "        self.product_embedding = tf.keras.layers.Embedding(len(products), length_of_embedding)\n",
    "        self.dot = tf.keras.layers.Dot(axes=-1)\n",
    "        \n",
    "    def call(self, inputs):\n",
    "        user = inputs[0]\n",
    "        products = inputs[1]\n",
    "\n",
    "        user_embedding_index = self.dummy_user_table.lookup(user)\n",
    "        product_embedding_index =self.product_table.lookup(products)\n",
    "\n",
    "        user_embedding_values = self.user_embedding(user_embedding_index)\n",
    "\n",
    "        product_embedding_value = self.product_embedding(product_embedding_index)\n",
    "        return tf.squeeze(self.dot([user_embedding_values,product_embedding_value]),1)\n",
    "    \n",
    "    @tf.function\n",
    "    def call_item_item(self, product):\n",
    "        product_x = self.product_table.lookup(product)\n",
    "        pe = tf.expand_dims(self.product_embedding(product_x), 0)\n",
    "        \n",
    "        all_pe = tf.expand_dims(self.product_embedding.embeddings, 0)#note this only works if the layer has been built!\n",
    "        scores = tf.reshape(self.dot([pe, all_pe]), [-1])\n",
    "        \n",
    "        top_scores, top_indices = tf.math.top_k(scores, k=100)\n",
    "        top_ids = tf.gather(self.products, top_indices)\n",
    "        return top_ids, top_scores"
   ]
  },
  {
   "attachments": {},
   "cell_type": "markdown",
   "metadata": {},
   "source": [
    "# Creating a dataset"
   ]
  },
  {
   "cell_type": "code",
   "execution_count": 40,
   "metadata": {},
   "outputs": [
    {
     "name": "stdout",
     "output_type": "stream",
     "text": [
      "tf.Tensor([b'PIXcm7Ru5KmntCy0yA1K'], shape=(1,), dtype=string)\n",
      "tf.Tensor([10524048], shape=(1,), dtype=int32)\n"
     ]
    }
   ],
   "source": [
    "dummy_user_tensor = tf.constant(train[[\"dummyUserId\"]].values, dtype=tf.string)\n",
    "product_tensor = tf.constant(train[[\"productId\"]].values, dtype=tf.int32)\n",
    "\n",
    "dataset = tf.data.Dataset.from_tensor_slices((dummy_user_tensor, product_tensor))\n",
    "for x, y in dataset:\n",
    "    print(x)\n",
    "    print(y)\n",
    "    break"
   ]
  },
  {
   "cell_type": "code",
   "execution_count": 41,
   "metadata": {},
   "outputs": [],
   "source": [
    "class Mapper():\n",
    "    \n",
    "    def __init__(self, possible_products, num_negative_products):\n",
    "        self.num_possible_products = len(possible_products)\n",
    "        self.possible_products_tensor = tf.constant(possible_products, dtype=tf.int32)\n",
    "        \n",
    "        self.num_negative_products = num_negative_products\n",
    "        self.y  = tf.one_hot(0,num_negative_products+1)\n",
    "    \n",
    "    def __call__(self, user, product):\n",
    "        random_negatives_indexs = tf.random.uniform((self.num_negative_products,),minval =0,maxval=self.num_possible_products,dtype=tf.int32)\n",
    "        negatives = tf.gather(self.possible_products_tensor, random_negatives_indexs)\n",
    "        candidates =tf.concat([product,negatives],axis=0)\n",
    "        return (user, candidates),self.y"
   ]
  },
  {
   "cell_type": "code",
   "execution_count": 42,
   "metadata": {},
   "outputs": [
    {
     "name": "stdout",
     "output_type": "stream",
     "text": [
      "tf.Tensor([b'PIXcm7Ru5KmntCy0yA1K'], shape=(1,), dtype=string)\n",
      "tf.Tensor(\n",
      "[10524048 12831647 10414013 10398023 10198506 11474552 10216688 10161709\n",
      "  8931451  8933761 12594971], shape=(11,), dtype=int32)\n",
      "tf.Tensor([1. 0. 0. 0. 0. 0. 0. 0. 0. 0. 0.], shape=(11,), dtype=float32)\n"
     ]
    }
   ],
   "source": [
    "dataset = tf.data.Dataset.from_tensor_slices((dummy_user_tensor, product_tensor)).map(Mapper(products,10))\n",
    "\n",
    "for (u,c),y in dataset:\n",
    "    print(u)\n",
    "    print(c)\n",
    "    print(y)\n",
    "    break"
   ]
  },
  {
   "cell_type": "code",
   "execution_count": 43,
   "metadata": {},
   "outputs": [],
   "source": [
    "def get_dataset(df,products, num_negative_products):\n",
    "    dummy_user_tensor = tf.constant(df[['dummyUserId']].values,dtype=tf.string)\n",
    "    product_tensor = tf.constant(df[['productId']].values,dtype=tf.int32)\n",
    "\n",
    "    dataset = tf.data.Dataset.from_tensor_slices((dummy_user_tensor,product_tensor))\n",
    "    dataset = dataset.map(Mapper(products,num_negative_products))\n",
    "    dataset = dataset.batch(1024)\n",
    "    return dataset"
   ]
  },
  {
   "cell_type": "code",
   "execution_count": 44,
   "metadata": {},
   "outputs": [
    {
     "name": "stdout",
     "output_type": "stream",
     "text": [
      "tf.Tensor(\n",
      "[[b'PIXcm7Ru5KmntCy0yA1K']\n",
      " [b'd0RILFB1hUzNSINMY4Ow']\n",
      " [b'Ebax7lyhnKRm4xeRlWW2']\n",
      " ...\n",
      " [b'xuX9n8PHfSR0AP3UZ8ar']\n",
      " [b'iNnxsPFfOa9884fMjVPJ']\n",
      " [b'aD8Mn12im8lFPzXAY41P']], shape=(1024, 1), dtype=string)\n",
      "tf.Tensor(\n",
      "[[10524048 10989931 10157675 10119346 12323856]\n",
      " [ 9137713 12312597 10853744 10548269 12724547]\n",
      " [ 5808602 12210258 12942332  9529369  9424846]\n",
      " ...\n",
      " [11541336 10338218 12313394 10438691 12432039]\n",
      " [ 7779232 12594729  9968967  8683774 11227938]\n",
      " [ 4941259 11470061  9179831  9322518  9025524]], shape=(1024, 5), dtype=int32)\n",
      "tf.Tensor(\n",
      "[[1. 0. 0. 0. 0.]\n",
      " [1. 0. 0. 0. 0.]\n",
      " [1. 0. 0. 0. 0.]\n",
      " ...\n",
      " [1. 0. 0. 0. 0.]\n",
      " [1. 0. 0. 0. 0.]\n",
      " [1. 0. 0. 0. 0.]], shape=(1024, 5), dtype=float32)\n"
     ]
    }
   ],
   "source": [
    "for (u,c),y in get_dataset(train,products,4):\n",
    "    print(u)\n",
    "    print(c)\n",
    "    print(y)\n",
    "    break"
   ]
  },
  {
   "attachments": {},
   "cell_type": "markdown",
   "metadata": {},
   "source": [
    "# Train a model"
   ]
  },
  {
   "cell_type": "code",
   "execution_count": 45,
   "metadata": {},
   "outputs": [
    {
     "name": "stdout",
     "output_type": "stream",
     "text": [
      "Epoch 1/5\n",
      "162/162 [==============================] - 30s 170ms/step - loss: 4.6151 - categorical_accuracy: 0.0134 - val_loss: 4.6151 - val_categorical_accuracy: 0.0183\n",
      "Epoch 2/5\n",
      "162/162 [==============================] - 24s 145ms/step - loss: 4.6120 - categorical_accuracy: 0.0840 - val_loss: 4.6148 - val_categorical_accuracy: 0.0465\n",
      "Epoch 3/5\n",
      "162/162 [==============================] - 24s 151ms/step - loss: 4.6002 - categorical_accuracy: 0.1923 - val_loss: 4.6076 - val_categorical_accuracy: 0.0730\n",
      "Epoch 4/5\n",
      "162/162 [==============================] - 25s 153ms/step - loss: 4.5293 - categorical_accuracy: 0.2447 - val_loss: 4.5604 - val_categorical_accuracy: 0.0967\n",
      "Epoch 5/5\n",
      "162/162 [==============================] - 22s 135ms/step - loss: 4.3188 - categorical_accuracy: 0.2507 - val_loss: 4.4298 - val_categorical_accuracy: 0.1095\n"
     ]
    },
    {
     "data": {
      "text/plain": [
       "<keras.callbacks.History at 0x29aed8c4220>"
      ]
     },
     "execution_count": 45,
     "metadata": {},
     "output_type": "execute_result"
    }
   ],
   "source": [
    "model = SimpleRecommender(dummy_users, products,15)\n",
    "model.compile(loss=tf.keras.losses.CategoricalCrossentropy(from_logits=True)\n",
    ",optimizer=tf.keras.optimizers.SGD(learning_rate=100.),\n",
    "metrics=[tf.keras.metrics.CategoricalAccuracy()])\n",
    "\n",
    "\n",
    "model.fit(get_dataset(train, products,100),validation_data=get_dataset(valid, products,100),epochs=5)\n"
   ]
  },
  {
   "cell_type": "code",
   "execution_count": 49,
   "metadata": {},
   "outputs": [],
   "source": [
    "test_product =11698965\n"
   ]
  },
  {
   "cell_type": "code",
   "execution_count": 50,
   "metadata": {},
   "outputs": [
    {
     "name": "stdout",
     "output_type": "stream",
     "text": [
      "Recs for item 11698965: (<tf.Tensor: shape=(100,), dtype=int32, numpy=\n",
      "array([10573792,  8752491,  9565144,  8941836,  9538680, 10104302,\n",
      "       10370822, 10999904, 11738844, 10231893, 10644449,  9297196,\n",
      "        9071435, 11177882,  8471139, 12361627, 11490790, 10234617,\n",
      "        8603141,  9366861,  8670947,  8868663, 10076510, 12314033,\n",
      "        9451127, 10214956,  9510585, 12154941, 11448828,  9664881,\n",
      "       10842058,  8678087, 10076176, 11434181, 11109921, 10079109,\n",
      "       11124830, 11124391,  9911275, 11433285, 12944924, 11522595,\n",
      "       10166170, 12054695, 10104812, 10577467, 10386511, 11191932,\n",
      "        9463705,  8290892, 11375321, 12278870, 12400123, 10835862,\n",
      "       10930684,  9923444, 12776114, 11356046,  9603448, 10994983,\n",
      "       11552263, 10758223, 11356367, 10578083, 11299363, 11160081,\n",
      "       12119822,  9061709,  9414102, 10752331, 10204147, 11698965,\n",
      "        8872825, 12503024,  9157402, 10526264, 11558150,  6775544,\n",
      "        8839278, 10612463,  7329586, 11581941, 10571258, 10125462,\n",
      "        9561802, 10087751, 11483569, 12076028,  8719949, 11773025,\n",
      "       11165922, 10357533, 11545322,  9103242, 11564475, 12509003,\n",
      "        8222029, 11187483, 13005684, 11151111])>, <tf.Tensor: shape=(100,), dtype=float32, numpy=\n",
      "array([0.27874833, 0.18979587, 0.17697275, 0.17318448, 0.15848687,\n",
      "       0.14165741, 0.13326515, 0.12380888, 0.12150334, 0.12032919,\n",
      "       0.1096367 , 0.10901761, 0.10689438, 0.10517045, 0.10424943,\n",
      "       0.10206787, 0.09586466, 0.09508872, 0.09368849, 0.09296396,\n",
      "       0.09288552, 0.09168678, 0.09048171, 0.09001605, 0.08933046,\n",
      "       0.08815467, 0.08742376, 0.08692597, 0.08611564, 0.08603123,\n",
      "       0.08593021, 0.08449481, 0.08402456, 0.08369215, 0.08283757,\n",
      "       0.08275035, 0.08222807, 0.08212893, 0.08187363, 0.08082479,\n",
      "       0.0800355 , 0.07968297, 0.07923256, 0.07908745, 0.07852314,\n",
      "       0.07800497, 0.07794276, 0.07763711, 0.07752158, 0.07721747,\n",
      "       0.07687866, 0.07667231, 0.07645883, 0.07642066, 0.07639463,\n",
      "       0.07596857, 0.07594725, 0.07571636, 0.07554625, 0.074379  ,\n",
      "       0.07364336, 0.07352348, 0.07339333, 0.07331558, 0.07302297,\n",
      "       0.0727417 , 0.07229081, 0.07221732, 0.07207903, 0.07201043,\n",
      "       0.07185204, 0.07157914, 0.07154253, 0.07081746, 0.07062539,\n",
      "       0.07028557, 0.0696583 , 0.06963558, 0.06956423, 0.06951154,\n",
      "       0.06950914, 0.06946201, 0.06942031, 0.06914794, 0.06899781,\n",
      "       0.06820587, 0.06796065, 0.06793729, 0.06784617, 0.06771955,\n",
      "       0.06770662, 0.06748296, 0.06718501, 0.06695897, 0.06663565,\n",
      "       0.066324  , 0.06617186, 0.06615032, 0.06610043, 0.06600218],\n",
      "      dtype=float32)>)\n"
     ]
    }
   ],
   "source": [
    "print(\"Recs for item {}: {}\".format(test_product, model.call_item_item(tf.constant(test_product, dtype=tf.int32))))\n"
   ]
  },
  {
   "attachments": {},
   "cell_type": "markdown",
   "metadata": {},
   "source": [
    "# Save the model"
   ]
  },
  {
   "cell_type": "code",
   "execution_count": 68,
   "metadata": {},
   "outputs": [
    {
     "name": "stderr",
     "output_type": "stream",
     "text": [
      "WARNING:absl:Found untraced functions such as _update_step_xla while saving (showing 1 of 1). These functions will not be directly callable after loading.\n"
     ]
    },
    {
     "name": "stdout",
     "output_type": "stream",
     "text": [
      "INFO:tensorflow:Assets written to: models/recommender/1\\assets\n"
     ]
    },
    {
     "name": "stderr",
     "output_type": "stream",
     "text": [
      "INFO:tensorflow:Assets written to: models/recommender/1\\assets\n"
     ]
    }
   ],
   "source": [
    "model_path = \"models/recommender/1\"\n",
    "inpute_signature = tf.TensorSpec(shape=(), dtype=tf.int32)\n",
    "signatures = { 'call_item_item': model.call_item_item.get_concrete_function(inpute_signature)}\n",
    "tf.saved_model.save(model, model_path,signatures = signatures)"
   ]
  },
  {
   "cell_type": "code",
   "execution_count": 69,
   "metadata": {},
   "outputs": [
    {
     "data": {
      "text/plain": [
       "['call_item_item']"
      ]
     },
     "execution_count": 69,
     "metadata": {},
     "output_type": "execute_result"
    }
   ],
   "source": [
    "PATH ='C:/Users/AbuTair/Desktop/Workspace/Data Science/Outfit-predication/code/models/recommender/1'\n",
    "imported_model = tf.saved_model.load(PATH)\n",
    "list(imported_model.signatures.keys())\n"
   ]
  },
  {
   "cell_type": "code",
   "execution_count": 81,
   "metadata": {},
   "outputs": [
    {
     "data": {
      "text/html": [
       "<table border=\"1\" class=\"dataframe\">\n",
       "  <thead>\n",
       "    <tr style=\"text-align: right;\">\n",
       "      <th></th>\n",
       "      <th>ProductUrl</th>\n",
       "    </tr>\n",
       "  </thead>\n",
       "  <tbody>\n",
       "    <tr>\n",
       "      <th>0</th>\n",
       "      <td>10573792</td>\n",
       "    </tr>\n",
       "    <tr>\n",
       "      <th>1</th>\n",
       "      <td>8752491</td>\n",
       "    </tr>\n",
       "    <tr>\n",
       "      <th>2</th>\n",
       "      <td>9565144</td>\n",
       "    </tr>\n",
       "    <tr>\n",
       "      <th>3</th>\n",
       "      <td>8941836</td>\n",
       "    </tr>\n",
       "    <tr>\n",
       "      <th>4</th>\n",
       "      <td>9538680</td>\n",
       "    </tr>\n",
       "    <tr>\n",
       "      <th>5</th>\n",
       "      <td>10104302</td>\n",
       "    </tr>\n",
       "    <tr>\n",
       "      <th>6</th>\n",
       "      <td>10370822</td>\n",
       "    </tr>\n",
       "    <tr>\n",
       "      <th>7</th>\n",
       "      <td>10999904</td>\n",
       "    </tr>\n",
       "    <tr>\n",
       "      <th>8</th>\n",
       "      <td>11738844</td>\n",
       "    </tr>\n",
       "    <tr>\n",
       "      <th>9</th>\n",
       "      <td>10231893</td>\n",
       "    </tr>\n",
       "  </tbody>\n",
       "</table>"
      ],
      "text/plain": [
       "<IPython.core.display.HTML object>"
      ]
     },
     "execution_count": 81,
     "metadata": {},
     "output_type": "execute_result"
    }
   ],
   "source": [
    "result_tensor = imported_model.signatures['call_item_item'](tf.constant([11698965]))\n",
    "\n",
    "from IPython.core.display import HTML\n",
    "\n",
    "def path_to_image_html(path):\n",
    "    return '<img src=\"' + path + '\" width=\"60\" >'\n",
    "\n",
    "result_df = pd.DataFrame(result_tensor['output_0'].numpy(),columns=['ProductUrl']).head(10)\n",
    "\n",
    "HTML(result_df.to_html(escape=False ,formatters=dict(column_name_with_image_links=path_to_image_html)))\n"
   ]
  },
  {
   "cell_type": "code",
   "execution_count": 84,
   "metadata": {},
   "outputs": [
    {
     "data": {
      "text/html": [
       "<div>\n",
       "<style scoped>\n",
       "    .dataframe tbody tr th:only-of-type {\n",
       "        vertical-align: middle;\n",
       "    }\n",
       "\n",
       "    .dataframe tbody tr th {\n",
       "        vertical-align: top;\n",
       "    }\n",
       "\n",
       "    .dataframe thead th {\n",
       "        text-align: right;\n",
       "    }\n",
       "</style>\n",
       "<table border=\"1\" class=\"dataframe\">\n",
       "  <thead>\n",
       "    <tr style=\"text-align: right;\">\n",
       "      <th></th>\n",
       "      <th>ProductUrl</th>\n",
       "    </tr>\n",
       "  </thead>\n",
       "  <tbody>\n",
       "    <tr>\n",
       "      <th>8</th>\n",
       "      <td>11738844</td>\n",
       "    </tr>\n",
       "    <tr>\n",
       "      <th>7</th>\n",
       "      <td>10999904</td>\n",
       "    </tr>\n",
       "    <tr>\n",
       "      <th>0</th>\n",
       "      <td>10573792</td>\n",
       "    </tr>\n",
       "    <tr>\n",
       "      <th>6</th>\n",
       "      <td>10370822</td>\n",
       "    </tr>\n",
       "    <tr>\n",
       "      <th>9</th>\n",
       "      <td>10231893</td>\n",
       "    </tr>\n",
       "    <tr>\n",
       "      <th>5</th>\n",
       "      <td>10104302</td>\n",
       "    </tr>\n",
       "    <tr>\n",
       "      <th>2</th>\n",
       "      <td>9565144</td>\n",
       "    </tr>\n",
       "    <tr>\n",
       "      <th>4</th>\n",
       "      <td>9538680</td>\n",
       "    </tr>\n",
       "    <tr>\n",
       "      <th>3</th>\n",
       "      <td>8941836</td>\n",
       "    </tr>\n",
       "    <tr>\n",
       "      <th>1</th>\n",
       "      <td>8752491</td>\n",
       "    </tr>\n",
       "  </tbody>\n",
       "</table>\n",
       "</div>"
      ],
      "text/plain": [
       "   ProductUrl\n",
       "8    11738844\n",
       "7    10999904\n",
       "0    10573792\n",
       "6    10370822\n",
       "9    10231893\n",
       "5    10104302\n",
       "2     9565144\n",
       "4     9538680\n",
       "3     8941836\n",
       "1     8752491"
      ]
     },
     "execution_count": 84,
     "metadata": {},
     "output_type": "execute_result"
    }
   ],
   "source": [
    "result_df.sort_values(by='ProductUrl',ascending=False)"
   ]
  }
 ],
 "metadata": {
  "kernelspec": {
   "display_name": "Python 3",
   "language": "python",
   "name": "python3"
  },
  "language_info": {
   "codemirror_mode": {
    "name": "ipython",
    "version": 3
   },
   "file_extension": ".py",
   "mimetype": "text/x-python",
   "name": "python",
   "nbconvert_exporter": "python",
   "pygments_lexer": "ipython3",
   "version": "3.10.6"
  },
  "orig_nbformat": 4,
  "vscode": {
   "interpreter": {
    "hash": "369f2c481f4da34e4445cda3fffd2e751bd1c4d706f27375911949ba6bb62e1c"
   }
  }
 },
 "nbformat": 4,
 "nbformat_minor": 2
}
