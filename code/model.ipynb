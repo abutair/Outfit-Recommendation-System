{
  "cells": [
    {
      "cell_type": "markdown",
      "metadata": {
        "id": "lUc_n91-hYMf"
      },
      "source": [
        "# Load data"
      ]
    },
    {
      "cell_type": "code",
      "execution_count": 1,
      "metadata": {
        "id": "BrGkJUWohYMp"
      },
      "outputs": [],
      "source": [
        "import numpy as np\n",
        "import pandas as pd\n",
        "import tensorflow as tf\n",
        "import os"
      ]
    },
    {
      "cell_type": "code",
      "execution_count": 2,
      "metadata": {
        "id": "2XtdqJKahYMu"
      },
      "outputs": [],
      "source": [
        "train = pd.read_parquet(\"https://raw.githubusercontent.com/ASOS/dsf2020/main/dsf_asos_train_with_alphanumeric_dummy_ids.parquet\")\n",
        "valid = pd.read_parquet(\"https://raw.githubusercontent.com/ASOS/dsf2020/main/dsf_asos_valid_with_alphanumeric_dummy_ids.parquet\")\n",
        "dummy_users = pd.read_csv(\"https://raw.githubusercontent.com/ASOS/dsf2020/main/dsf_asos_dummy_users_with_alphanumeric_dummy_ids.csv\", header=None).values.flatten().astype(str)\n",
        "products = pd.read_csv(\"https://raw.githubusercontent.com/ASOS/dsf2020/main/dsf_asos_productIds.csv\", header=None).values.flatten().astype(int)"
      ]
    },
    {
      "cell_type": "code",
      "execution_count": 3,
      "metadata": {
        "id": "zcFNp10PhYMv",
        "outputId": "44212262-c023-45de-cbfa-f5504e8efc24",
        "colab": {
          "base_uri": "https://localhost:8080/"
        }
      },
      "outputs": [
        {
          "output_type": "execute_result",
          "data": {
            "text/plain": [
              "array([ 8650774,  9306139,  9961521, ..., 12058614, 12058615, 11927550])"
            ]
          },
          "metadata": {},
          "execution_count": 3
        }
      ],
      "source": [
        "products"
      ]
    },
    {
      "cell_type": "markdown",
      "metadata": {
        "id": "jNLhnJQchYMy"
      },
      "source": [
        "# Define a Recommender model"
      ]
    },
    {
      "cell_type": "markdown",
      "metadata": {
        "id": "fMfjylsKhYMz"
      },
      "source": [
        "Embeding layers gives list of random numbers for each user and each product"
      ]
    },
    {
      "cell_type": "code",
      "execution_count": 4,
      "metadata": {
        "id": "QDijKAIthYMz"
      },
      "outputs": [],
      "source": [
        "embed1 = tf.keras.layers.Embedding(5,8)"
      ]
    },
    {
      "cell_type": "code",
      "execution_count": 5,
      "metadata": {
        "id": "ML6IV-kYhYM1"
      },
      "outputs": [],
      "source": [
        "dummy_users_embedding = tf.keras.layers.Embedding(len(dummy_users),6)\n",
        "products_embedding =  tf.keras.layers.Embedding(len(products),6)"
      ]
    },
    {
      "cell_type": "code",
      "execution_count": 6,
      "metadata": {
        "id": "iJWeTlKhhYM1",
        "outputId": "38795870-5d14-49c6-9275-4857e65e74b8",
        "colab": {
          "base_uri": "https://localhost:8080/"
        }
      },
      "outputs": [
        {
          "output_type": "execute_result",
          "data": {
            "text/plain": [
              "<tf.Tensor: shape=(6,), dtype=float32, numpy=\n",
              "array([-0.00412284, -0.02905357, -0.02707316, -0.00170527, -0.0430899 ,\n",
              "       -0.04949467], dtype=float32)>"
            ]
          },
          "metadata": {},
          "execution_count": 6
        }
      ],
      "source": [
        "dummy_users_embedding(1)"
      ]
    },
    {
      "cell_type": "code",
      "execution_count": 7,
      "metadata": {
        "id": "aUkeZ5eahYM2"
      },
      "outputs": [],
      "source": [
        "class SimpleRecommender(tf.keras.Model):\n",
        "    def __init__(self, dummy_users, products,length_of_embedding):\n",
        "        super(SimpleRecommender, self).__init__()\n",
        "        self.products = tf.constant(products, dtype=tf.int32)\n",
        "        self.dummy_users = tf.constant(dummy_users, dtype=tf.string)\n",
        "        self.dummy_user_table = tf.lookup.StaticHashTable(tf.lookup.KeyValueTensorInitializer(self.dummy_users, range(len(dummy_users))), -1)\n",
        "        self.product_table = tf.lookup.StaticHashTable(tf.lookup.KeyValueTensorInitializer(self.products, range(len(products))), -1)\n",
        "        \n",
        "        self.user_embedding = tf.keras.layers.Embedding(len(dummy_users), length_of_embedding)\n",
        "        self.product_embedding = tf.keras.layers.Embedding(len(products), length_of_embedding)\n",
        "        self.dot = tf.keras.layers.Dot(axes=-1)\n",
        "        \n",
        "    def call(self, inputs):\n",
        "        user = inputs[0]\n",
        "        products = inputs[1]\n",
        "\n",
        "        user_embedding_index = self.dummy_user_table.lookup(user)\n",
        "        product_embedding_index =self.product_table.lookup(products)\n",
        "\n",
        "        user_embedding_values = self.user_embedding(user_embedding_index)\n",
        "\n",
        "        product_embedding_value = self.product_embedding(product_embedding_index)\n",
        "        return tf.squeeze(self.dot([user_embedding_values,product_embedding_value]),1)\n",
        "    \n",
        "    @tf.function\n",
        "    def call_item_item(self, product):\n",
        "        product_x = self.product_table.lookup(product)\n",
        "        pe = tf.expand_dims(self.product_embedding(product_x), 0)\n",
        "        \n",
        "        all_pe = tf.expand_dims(self.product_embedding.embeddings, 0)#note this only works if the layer has been built!\n",
        "        scores = tf.reshape(self.dot([pe, all_pe]), [-1])\n",
        "        \n",
        "        top_scores, top_indices = tf.math.top_k(scores, k=100)\n",
        "        top_ids = tf.gather(self.products, top_indices)\n",
        "        return top_ids, top_scores"
      ]
    },
    {
      "cell_type": "markdown",
      "metadata": {
        "id": "sKF3ikQIhYM4"
      },
      "source": [
        "# Creating a dataset"
      ]
    },
    {
      "cell_type": "code",
      "execution_count": 8,
      "metadata": {
        "id": "Yb32liWBhYM4",
        "outputId": "69f218b5-0535-4679-97ec-84ae2017deea",
        "colab": {
          "base_uri": "https://localhost:8080/"
        }
      },
      "outputs": [
        {
          "output_type": "stream",
          "name": "stdout",
          "text": [
            "tf.Tensor([b'PIXcm7Ru5KmntCy0yA1K'], shape=(1,), dtype=string)\n",
            "tf.Tensor([10524048], shape=(1,), dtype=int32)\n"
          ]
        }
      ],
      "source": [
        "dummy_user_tensor = tf.constant(train[[\"dummyUserId\"]].values, dtype=tf.string)\n",
        "product_tensor = tf.constant(train[[\"productId\"]].values, dtype=tf.int32)\n",
        "\n",
        "dataset = tf.data.Dataset.from_tensor_slices((dummy_user_tensor, product_tensor))\n",
        "for x, y in dataset:\n",
        "    print(x)\n",
        "    print(y)\n",
        "    break"
      ]
    },
    {
      "cell_type": "code",
      "execution_count": 9,
      "metadata": {
        "id": "jK8wvzYBhYM5"
      },
      "outputs": [],
      "source": [
        "class Mapper():\n",
        "    \n",
        "    def __init__(self, possible_products, num_negative_products):\n",
        "        self.num_possible_products = len(possible_products)\n",
        "        self.possible_products_tensor = tf.constant(possible_products, dtype=tf.int32)\n",
        "        \n",
        "        self.num_negative_products = num_negative_products\n",
        "        self.y  = tf.one_hot(0,num_negative_products+1)\n",
        "    \n",
        "    def __call__(self, user, product):\n",
        "        random_negatives_indexs = tf.random.uniform((self.num_negative_products,),minval =0,maxval=self.num_possible_products,dtype=tf.int32)\n",
        "        negatives = tf.gather(self.possible_products_tensor, random_negatives_indexs)\n",
        "        candidates =tf.concat([product,negatives],axis=0)\n",
        "        return (user, candidates),self.y"
      ]
    },
    {
      "cell_type": "code",
      "execution_count": 10,
      "metadata": {
        "id": "UpOAJKR_hYM6",
        "outputId": "9bb449d2-8a19-4fe6-c34f-88098f63df37",
        "colab": {
          "base_uri": "https://localhost:8080/"
        }
      },
      "outputs": [
        {
          "output_type": "stream",
          "name": "stdout",
          "text": [
            "tf.Tensor([b'PIXcm7Ru5KmntCy0yA1K'], shape=(1,), dtype=string)\n",
            "tf.Tensor(\n",
            "[10524048 10265059 11735604 11803153 12314020  9887144  9122663 10107872\n",
            " 11216266 11674419 11419427], shape=(11,), dtype=int32)\n",
            "tf.Tensor([1. 0. 0. 0. 0. 0. 0. 0. 0. 0. 0.], shape=(11,), dtype=float32)\n"
          ]
        }
      ],
      "source": [
        "dataset = tf.data.Dataset.from_tensor_slices((dummy_user_tensor, product_tensor)).map(Mapper(products,10))\n",
        "\n",
        "for (u,c),y in dataset:\n",
        "    print(u)\n",
        "    print(c)\n",
        "    print(y)\n",
        "    break"
      ]
    },
    {
      "cell_type": "code",
      "execution_count": 11,
      "metadata": {
        "id": "5RCj1_FXhYM8"
      },
      "outputs": [],
      "source": [
        "def get_dataset(df,products, num_negative_products):\n",
        "    dummy_user_tensor = tf.constant(df[['dummyUserId']].values,dtype=tf.string)\n",
        "    product_tensor = tf.constant(df[['productId']].values,dtype=tf.int32)\n",
        "\n",
        "    dataset = tf.data.Dataset.from_tensor_slices((dummy_user_tensor,product_tensor))\n",
        "    dataset = dataset.map(Mapper(products,num_negative_products))\n",
        "    dataset = dataset.batch(1024)\n",
        "    return dataset"
      ]
    },
    {
      "cell_type": "code",
      "execution_count": 12,
      "metadata": {
        "id": "EZsRUYL7hYM8",
        "outputId": "aabf21e2-01d3-43f4-99f5-a60cfbf1c9c0",
        "colab": {
          "base_uri": "https://localhost:8080/"
        }
      },
      "outputs": [
        {
          "output_type": "stream",
          "name": "stdout",
          "text": [
            "tf.Tensor(\n",
            "[[b'PIXcm7Ru5KmntCy0yA1K']\n",
            " [b'd0RILFB1hUzNSINMY4Ow']\n",
            " [b'Ebax7lyhnKRm4xeRlWW2']\n",
            " ...\n",
            " [b'xuX9n8PHfSR0AP3UZ8ar']\n",
            " [b'iNnxsPFfOa9884fMjVPJ']\n",
            " [b'aD8Mn12im8lFPzXAY41P']], shape=(1024, 1), dtype=string)\n",
            "tf.Tensor(\n",
            "[[10524048 11202337 10175459  9267621 11129213]\n",
            " [ 9137713 10401835 10432694 11184268  7538026]\n",
            " [ 5808602 12107606 10102321 11856416 12237853]\n",
            " ...\n",
            " [11541336  8317569 10188246 10220965 10958211]\n",
            " [ 7779232 10410505  6430186  9912805  8688906]\n",
            " [ 4941259 12227114  9526476 12402983 10677510]], shape=(1024, 5), dtype=int32)\n",
            "tf.Tensor(\n",
            "[[1. 0. 0. 0. 0.]\n",
            " [1. 0. 0. 0. 0.]\n",
            " [1. 0. 0. 0. 0.]\n",
            " ...\n",
            " [1. 0. 0. 0. 0.]\n",
            " [1. 0. 0. 0. 0.]\n",
            " [1. 0. 0. 0. 0.]], shape=(1024, 5), dtype=float32)\n"
          ]
        }
      ],
      "source": [
        "for (u,c),y in get_dataset(train,products,4):\n",
        "    print(u)\n",
        "    print(c)\n",
        "    print(y)\n",
        "    break"
      ]
    },
    {
      "cell_type": "markdown",
      "metadata": {
        "id": "0807QU9ZhYM9"
      },
      "source": [
        "# Train a model"
      ]
    },
    {
      "cell_type": "code",
      "execution_count": null,
      "metadata": {
        "id": "yu6PpTZyhYM9",
        "outputId": "fd52f2ea-2c08-4d5d-a14b-918d98594395",
        "colab": {
          "base_uri": "https://localhost:8080/"
        }
      },
      "outputs": [
        {
          "output_type": "stream",
          "name": "stdout",
          "text": [
            "Epoch 1/5\n",
            "162/162 [==============================] - 23s 134ms/step - loss: 4.6151 - categorical_accuracy: 0.0136 - val_loss: 4.6151 - val_categorical_accuracy: 0.0194\n",
            "Epoch 2/5\n",
            "162/162 [==============================] - 13s 83ms/step - loss: 4.6119 - categorical_accuracy: 0.0846 - val_loss: 4.6147 - val_categorical_accuracy: 0.0493\n",
            "Epoch 3/5\n",
            "162/162 [==============================] - 9s 54ms/step - loss: 4.5990 - categorical_accuracy: 0.1931 - val_loss: 4.6075 - val_categorical_accuracy: 0.0736\n",
            "Epoch 4/5\n",
            "108/162 [===================>..........] - ETA: 2s - loss: 4.5475 - categorical_accuracy: 0.2473"
          ]
        }
      ],
      "source": [
        "model = SimpleRecommender(dummy_users, products,15)\n",
        "model.compile(loss=tf.keras.losses.CategoricalCrossentropy(from_logits=True)\n",
        ",optimizer=tf.keras.optimizers.SGD(learning_rate=100.),\n",
        "metrics=[tf.keras.metrics.CategoricalAccuracy()])\n",
        "\n",
        "\n",
        "model.fit(get_dataset(train, products,100),validation_data=get_dataset(valid, products,100),epochs=5)\n"
      ]
    },
    {
      "cell_type": "code",
      "execution_count": null,
      "metadata": {
        "id": "W4J2e_hBhYM-"
      },
      "outputs": [],
      "source": [
        "test_product =11698965\n"
      ]
    },
    {
      "cell_type": "code",
      "execution_count": null,
      "metadata": {
        "id": "JdUTa6vQhYM-"
      },
      "outputs": [],
      "source": [
        "print(\"Recs for item {}: {}\".format(test_product, model.call_item_item(tf.constant(test_product, dtype=tf.int32))))\n"
      ]
    },
    {
      "cell_type": "markdown",
      "metadata": {
        "id": "9ryfyBruhYM_"
      },
      "source": [
        "# Save the model"
      ]
    },
    {
      "cell_type": "code",
      "execution_count": null,
      "metadata": {
        "id": "tLPyKDWqhYM_"
      },
      "outputs": [],
      "source": [
        "model_path = \"models/recommender/1\"\n",
        "inpute_signature = tf.TensorSpec(shape=(), dtype=tf.int32)\n",
        "signatures = { 'call_item_item': model.call_item_item.get_concrete_function(inpute_signature)}\n",
        "tf.saved_model.save(model, model_path,signatures = signatures)"
      ]
    },
    {
      "cell_type": "code",
      "execution_count": null,
      "metadata": {
        "id": "B61L3arohYM_"
      },
      "outputs": [],
      "source": [
        "PATH ='C:/Users/AbuTair/Desktop/Workspace/Data Science/Outfit-predication/code/models/recommender/1'\n",
        "imported_model = tf.saved_model.load(PATH)\n",
        "list(imported_model.signatures.keys())\n"
      ]
    },
    {
      "cell_type": "code",
      "execution_count": null,
      "metadata": {
        "id": "letTt6MZhYNA"
      },
      "outputs": [],
      "source": [
        "result_tensor = imported_model.signatures['call_item_item'](tf.constant([11698965]))\n",
        "\n",
        "from IPython.core.display import HTML\n",
        "\n",
        "def path_to_image_html(path):\n",
        "    return '<img src=\"' + path + '\" width=\"60\" >'\n",
        "\n",
        "result_df = pd.DataFrame(result_tensor['output_0'].numpy(),columns=['ProductUrl']).head(10)\n",
        "\n",
        "HTML(result_df.to_html(escape=False ,formatters=dict(column_name_with_image_links=path_to_image_html)))\n"
      ]
    },
    {
      "cell_type": "code",
      "execution_count": null,
      "metadata": {
        "id": "xVwmoKADhYNB"
      },
      "outputs": [],
      "source": [
        "result_df.sort_values(by='ProductUrl',ascending=False)"
      ]
    }
  ],
  "metadata": {
    "kernelspec": {
      "display_name": "Python 3",
      "language": "python",
      "name": "python3"
    },
    "language_info": {
      "codemirror_mode": {
        "name": "ipython",
        "version": 3
      },
      "file_extension": ".py",
      "mimetype": "text/x-python",
      "name": "python",
      "nbconvert_exporter": "python",
      "pygments_lexer": "ipython3",
      "version": "3.10.6"
    },
    "orig_nbformat": 4,
    "vscode": {
      "interpreter": {
        "hash": "369f2c481f4da34e4445cda3fffd2e751bd1c4d706f27375911949ba6bb62e1c"
      }
    },
    "colab": {
      "provenance": []
    }
  },
  "nbformat": 4,
  "nbformat_minor": 0
}